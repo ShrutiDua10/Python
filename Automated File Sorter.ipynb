{
 "cells": [
  {
   "cell_type": "markdown",
   "id": "c62ed8fa",
   "metadata": {},
   "source": [
    "# Automated File Sorter"
   ]
  },
  {
   "cell_type": "code",
   "execution_count": 1,
   "id": "eacb685e",
   "metadata": {},
   "outputs": [],
   "source": [
    "# Libraries\n",
    "\n",
    "import os, shutil"
   ]
  },
  {
   "cell_type": "code",
   "execution_count": 2,
   "id": "4c5de5ed",
   "metadata": {},
   "outputs": [],
   "source": [
    "# Path to the folder with the required files \n",
    "\n",
    "path = r\"/Users/shrutidua/Documents/FileSorterProject/\"\n",
    "\n",
    "file_names = os.listdir(path)"
   ]
  },
  {
   "cell_type": "code",
   "execution_count": 3,
   "id": "328966a4",
   "metadata": {},
   "outputs": [],
   "source": [
    "# Function that sorts the files in the folder\n",
    "\n",
    "folder_names = ['excel files', 'csv files', 'image files', 'word files']\n",
    "\n",
    "for loop in range(0,4):\n",
    "    if not(os.path.exists(path + folder_names[loop])):\n",
    "        os.makedirs(path + folder_names[loop])\n",
    "        \n",
    "for file in file_names:\n",
    "    if '.xlsx' in file and not os.path.exists(path + 'excel files/' + file):\n",
    "        shutil.move(path + file, path + 'excel files/' + file)\n",
    "    elif '.csv' in file and not os.path.exists(path + 'csv files/' + file):\n",
    "        shutil.move(path + file, path + 'csv files/' + file)\n",
    "    elif (('.JPG' in file) or ('.png' in file)) and not (os.path.exists(path + 'image files/' + file)):\n",
    "        shutil.move(path + file, path + 'image files/' + file)\n",
    "    elif '.png' in file and not os.path.exists(path + 'image files/' + file):\n",
    "        shutil.move(path + file, path + 'image files/' + file)\n",
    "    elif '.docx' in file and not os.path.exists(path + 'word files/' + file):\n",
    "        shutil.move(path + file, path + 'word files/' + file)"
   ]
  }
 ],
 "metadata": {
  "kernelspec": {
   "display_name": "Python 3 (ipykernel)",
   "language": "python",
   "name": "python3"
  },
  "language_info": {
   "codemirror_mode": {
    "name": "ipython",
    "version": 3
   },
   "file_extension": ".py",
   "mimetype": "text/x-python",
   "name": "python",
   "nbconvert_exporter": "python",
   "pygments_lexer": "ipython3",
   "version": "3.10.9"
  }
 },
 "nbformat": 4,
 "nbformat_minor": 5
}
