{
 "cells": [
  {
   "cell_type": "code",
   "execution_count": 4,
   "id": "1f072828",
   "metadata": {},
   "outputs": [],
   "source": [
    "# Libraries\n",
    "\n",
    "from bs4 import BeautifulSoup\n",
    "import requests\n",
    "import time\n",
    "import datetime\n",
    "import csv\n",
    "import datetime"
   ]
  },
  {
   "cell_type": "code",
   "execution_count": 5,
   "id": "e76ca8f1",
   "metadata": {},
   "outputs": [
    {
     "name": "stdout",
     "output_type": "stream",
     "text": [
      "\n",
      "\n",
      "\n",
      "\n",
      "\n",
      "                   Mens FA (LA) 8 Tshirt Funny Nerdy Math Christmas Carole Graphic Novelty Holiday Tee\n",
      "                  \n",
      "\n",
      "\n",
      "\n",
      "\n",
      "\n",
      "\n",
      "\n",
      "\n",
      "\n",
      "\n",
      "                  $9.99\n",
      "                 \n",
      "\n",
      "\n",
      "                   $\n",
      "                  \n",
      "\n",
      "                   9\n",
      "                   \n",
      "                    .\n",
      "                   \n",
      "\n",
      "\n",
      "                   99\n",
      "                  \n",
      "\n",
      "\n",
      "\n",
      "\n",
      "\n",
      "\n",
      "\n",
      "\n",
      "\n",
      "\n",
      "\n",
      "\n",
      "\n",
      "\n",
      "\n",
      "                  Visit the Crazy Dog T-Shirts Store\n",
      "                 \n"
     ]
    }
   ],
   "source": [
    "# Connecting to the Website\n",
    "\n",
    "URL = 'https://www.amazon.com/Christmas-Graphic-Novelty-Holiday-Heather/dp/B08KWGTQH9/ref=sr_1_2?crid=2GRSDFPU39IIB&keywords=fa%2Bla%2Btshirt&qid=1686407582&sprefix=fila%2Btshirt%2Caps%2C260&sr=8-2&th=1&psc=1'\n",
    "headers = {\"User-Agent\": \"Mozilla/5.0 (Macintosh; Intel Mac OS X 10_15_7) AppleWebKit/605.1.15 (KHTML, like Gecko) Version/15.6 Safari/605.1.15\", \"Accept-Encoding\":\"gzip, deflate, br\", \"Accept\":\"text/html,application/xhtml+xml,application/xml;q=0.9,*/*;q=0.8\", \"DNT\":\"1\",\"Connection\":\"close\", \"Upgrade-Insecure-Requests\":\"1\"}\n",
    "\n",
    "webpage = requests.get(URL, headers = headers)\n",
    "\n",
    "soup_one = BeautifulSoup(webpage.content, 'html.parser')\n",
    "\n",
    "soup_two = BeautifulSoup(soup_one.prettify(), 'html.parser')\n",
    "\n",
    "title = soup_two.find(id='title_feature_div').get_text()\n",
    "\n",
    "price = soup_two.find(id='corePriceDisplay_desktop_feature_div').get_text()\n",
    "\n",
    "store = soup_two.find(id='bylineInfo').get_text()\n",
    "\n",
    "print(title)\n",
    "print(price)\n",
    "print(store)\n"
   ]
  },
  {
   "cell_type": "code",
   "execution_count": 6,
   "id": "4646dfd7",
   "metadata": {},
   "outputs": [
    {
     "name": "stdout",
     "output_type": "stream",
     "text": [
      "Mens FA (LA) 8 Tshirt Funny Nerdy Math Christmas Carole Graphic Novelty Holiday Tee\n",
      "9.99\n",
      "Crazy Dog T-Shirts\n"
     ]
    }
   ],
   "source": [
    "# Cleaning up the data\n",
    "\n",
    "price = price.strip()[1:5]\n",
    "title = title.strip()\n",
    "store = store.strip().split()[2:5]\n",
    "store = ' '.join(store)\n",
    "\n",
    "print(title)\n",
    "print(price)\n",
    "print(store)"
   ]
  },
  {
   "cell_type": "code",
   "execution_count": 7,
   "id": "b394fb37",
   "metadata": {},
   "outputs": [
    {
     "name": "stdout",
     "output_type": "stream",
     "text": [
      "2023-06-14\n"
     ]
    }
   ],
   "source": [
    "# Creating a timestamp for the output to track when data was collected\n",
    "\n",
    "date = datetime.date.today()\n",
    "\n",
    "print(date)"
   ]
  },
  {
   "cell_type": "code",
   "execution_count": 8,
   "id": "1636bcd6",
   "metadata": {},
   "outputs": [],
   "source": [
    "# Creating a CSV and adding headers and data into the file\n",
    "\n",
    "headers = ['Title', 'Price', 'Store', 'Date']\n",
    "data = [title, price, store, date]\n",
    "\n",
    "with open('AmazonScrapingData.csv', 'w', newline = '', encoding = 'UTF8') as file:\n",
    "    writer = csv.writer(file)\n",
    "    writer.writerow(headers)\n",
    "    writer.writerow(data)"
   ]
  },
  {
   "cell_type": "code",
   "execution_count": 9,
   "id": "ecbcf4b7",
   "metadata": {},
   "outputs": [],
   "source": [
    "# Appending data to the csv\n",
    "\n",
    "with open('AmazonScrapingData.csv', 'a+', newline = '', encoding = 'UTF8') as file:\n",
    "    writer = csv.writer(file)\n",
    "    writer.writerow(data)"
   ]
  },
  {
   "cell_type": "code",
   "execution_count": 10,
   "id": "f9552ecc",
   "metadata": {},
   "outputs": [],
   "source": [
    "# Combine all of the above code into one function\n",
    "\n",
    "def check_info():\n",
    "    \n",
    "    URL = 'https://www.amazon.com/Christmas-Graphic-Novelty-Holiday-Heather/dp/B08KWGTQH9/ref=sr_1_2?crid=2GRSDFPU39IIB&keywords=fa%2Bla%2Btshirt&qid=1686407582&sprefix=fila%2Btshirt%2Caps%2C260&sr=8-2&th=1&psc=1'\n",
    "    headers = {\"User-Agent\": \"Mozilla/5.0 (Macintosh; Intel Mac OS X 10_15_7) AppleWebKit/605.1.15 (KHTML, like Gecko) Version/15.6 Safari/605.1.15\", \"Accept-Encoding\":\"gzip, deflate, br\", \"Accept\":\"text/html,application/xhtml+xml,application/xml;q=0.9,*/*;q=0.8\", \"DNT\":\"1\",\"Connection\":\"close\", \"Upgrade-Insecure-Requests\":\"1\"}\n",
    "    webpage = requests.get(URL, headers = headers)\n",
    "\n",
    "    soup_one = BeautifulSoup(webpage.content, 'html.parser')\n",
    "    soup_two = BeautifulSoup(soup_one.prettify(), 'html.parser')\n",
    "\n",
    "    title = soup_two.find(id='title_feature_div').get_text()\n",
    "    price = soup_two.find(id='corePriceDisplay_desktop_feature_div').get_text()\n",
    "    store = soup_two.find(id='bylineInfo').get_text()\n",
    "    \n",
    "    price = price.strip()[1:5]\n",
    "    title = title.strip()\n",
    "    store = store.strip().split()[2:5]\n",
    "    store = ' '.join(store)\n",
    "    \n",
    "    date = datetime.date.today()\n",
    "    \n",
    "    headers = ['Title', 'Price', 'Store', 'Date']\n",
    "    data = [title, price, store, date]\n",
    "    \n",
    "    with open('AmazonScrapingData.csv', 'a+', newline = '', encoding = 'UTF8') as file:\n",
    "        writer = csv.writer(file)\n",
    "        writer.writerow(data)"
   ]
  },
  {
   "cell_type": "code",
   "execution_count": null,
   "id": "b7b67636",
   "metadata": {},
   "outputs": [],
   "source": [
    "# The following function runs check_info after a set time (24 hours) and inputs data into your CSV\n",
    "\n",
    "while(True):\n",
    "    check_info()\n",
    "    time.sleep(86400)"
   ]
  }
 ],
 "metadata": {
  "kernelspec": {
   "display_name": "Python 3 (ipykernel)",
   "language": "python",
   "name": "python3"
  },
  "language_info": {
   "codemirror_mode": {
    "name": "ipython",
    "version": 3
   },
   "file_extension": ".py",
   "mimetype": "text/x-python",
   "name": "python",
   "nbconvert_exporter": "python",
   "pygments_lexer": "ipython3",
   "version": "3.10.9"
  }
 },
 "nbformat": 4,
 "nbformat_minor": 5
}
