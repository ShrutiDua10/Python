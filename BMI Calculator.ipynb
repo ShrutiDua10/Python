{
 "cells": [
  {
   "cell_type": "markdown",
   "id": "b46e9678",
   "metadata": {},
   "source": [
    "# BMI Calculator"
   ]
  },
  {
   "cell_type": "code",
   "execution_count": null,
   "id": "7733962d",
   "metadata": {},
   "outputs": [],
   "source": [
    "# https://healthtravelguide.com/bmi-calculator/"
   ]
  },
  {
   "cell_type": "code",
   "execution_count": 3,
   "id": "7d5b9c22",
   "metadata": {},
   "outputs": [
    {
     "name": "stdout",
     "output_type": "stream",
     "text": [
      "Enter your full name: Shruti Dua\n",
      "Pick Metric or Imperial System (Enter either 'Metric' or 'Imperial'): Metric\n",
      "Enter your weight in kilograms: 56\n",
      "Enter your height in centimeter: 170\n",
      "Your BMI is:  19.377162629757787\n",
      "Normal Weight\n"
     ]
    }
   ],
   "source": [
    "# Getting all the information from the user and calculating BMI\n",
    "\n",
    "name = input(\"Enter your full name: \")\n",
    "\n",
    "system = input(\"Pick Metric or Imperial System (Enter either 'Metric' or 'Imperial'): \")\n",
    "\n",
    "if system == 'Metric':\n",
    "    \n",
    "    weight = int(input(\"Enter your weight in kilograms: \"))\n",
    "\n",
    "    height = int(input(\"Enter your height in centimeter: \"))\n",
    "\n",
    "    BMI = (weight) / ((height/100) * (height/100))\n",
    "    \n",
    "elif system == 'Imperial':\n",
    "    \n",
    "    weight = int(input(\"Enter your weight in pounds: \"))\n",
    "\n",
    "    height = int(input(\"Enter your height in inches: \"))\n",
    "\n",
    "    BMI = (weight * 703) / (height * height)\n",
    "    \n",
    "print(\"Your BMI is: \", BMI)\n",
    "\n",
    "\n",
    "# Finding nutritional status based on BMI\n",
    "\n",
    "if (BMI > 0):\n",
    "    if (BMI < 18.5):\n",
    "        print(\"Underweight\")\n",
    "    elif (18.5 <= BMI) and (BMI <= 24.9):\n",
    "        print(\"Normal Weight\")\n",
    "    elif (25 <= BMI) and (BMI <= 29.9):\n",
    "        print(\"Overweight (Pre-obese)\")\n",
    "    elif (30 <= BMI) and (BMI <= 34.9):\n",
    "        print(\"Obesity Class I\")\n",
    "    elif (35 <= BMI) and (BMI <= 39.9):\n",
    "        print(\"Obesity Class II\")\n",
    "    else:\n",
    "        print(\"Obesity Class III\")\n",
    "else:\n",
    "    print(\"Enter valid input\")"
   ]
  }
 ],
 "metadata": {
  "kernelspec": {
   "display_name": "Python 3 (ipykernel)",
   "language": "python",
   "name": "python3"
  },
  "language_info": {
   "codemirror_mode": {
    "name": "ipython",
    "version": 3
   },
   "file_extension": ".py",
   "mimetype": "text/x-python",
   "name": "python",
   "nbconvert_exporter": "python",
   "pygments_lexer": "ipython3",
   "version": "3.10.9"
  }
 },
 "nbformat": 4,
 "nbformat_minor": 5
}
